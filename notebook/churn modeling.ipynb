{
 "cells": [
  {
   "cell_type": "code",
   "execution_count": 0,
   "metadata": {
    "application/vnd.databricks.v1+cell": {
     "cellMetadata": {
      "byteLimit": 2048000,
      "rowLimit": 10000
     },
     "inputWidgets": {},
     "nuid": "5877e70d-30cd-4c8b-9738-3b4f0dc3c3e1",
     "showTitle": false,
     "tableResultSettingsMap": {},
     "title": ""
    }
   },
   "outputs": [
    {
     "output_type": "stream",
     "name": "stdout",
     "output_type": "stream",
     "text": [
      "Spark Session Created. Version: 3.5.0\n"
     ]
    }
   ],
   "source": [
    "from pyspark.sql import SparkSession\n",
    "import pyspark.sql.functions as F\n",
    "import pyspark.sql.types as T\n",
    "\n",
    "spark = SparkSession.builder.appName(\"ChurnPrediction\").getOrCreate()\n",
    "print(f\"Spark Session Created. Version: {spark.version}\")"
   ]
  },
  {
   "cell_type": "code",
   "execution_count": 0,
   "metadata": {
    "application/vnd.databricks.v1+cell": {
     "cellMetadata": {
      "byteLimit": 2048000,
      "rowLimit": 10000
     },
     "inputWidgets": {},
     "nuid": "03b93302-4a4d-4995-8fe1-3d5d814bce22",
     "showTitle": false,
     "tableResultSettingsMap": {},
     "title": ""
    }
   },
   "outputs": [
    {
     "output_type": "stream",
     "name": "stdout",
     "output_type": "stream",
     "text": [
      "Data loaded. Row Count: \"10000000\"\nroot\n |-- name: string (nullable = true)\n |-- CustomerID: string (nullable = true)\n |-- TenureMonths: integer (nullable = true)\n |-- MonthlyCharges: double (nullable = true)\n |-- email: string (nullable = true)\n |-- PhoneNumber: string (nullable = true)\n |-- Churn: string (nullable = true)\n |-- TotalCharges: string (nullable = true)\n\n+--------------+--------------+------------+--------------+--------------------+-------------------+-----+------------+\n|          name|    CustomerID|TenureMonths|MonthlyCharges|               email|        PhoneNumber|Churn|TotalCharges|\n+--------------+--------------+------------+--------------+--------------------+-------------------+-----+------------+\n|   Megan Munoz|CUST_000000000|          65|         46.27|bdickerson@exampl...|   001-454-721-6528|    0|     3302.53|\n|Matthew Fuller|CUST_000000001|           1|         77.51|matthewmccarthy@e...|+1-587-704-8741x057|    0|       78.52|\n|  Maria Harris|CUST_000000002|          12|          33.1|jessica66@example...|       801.594.8590|    0|      413.09|\n|Roberto Taylor|CUST_000000003|          20|          73.0|mariah43@example.com|    +1-946-381-9728|    0|     1673.33|\n| Felicia Lewis|CUST_000000004|          35|         66.88|amandaruiz@exampl...|  (602)913-1474x799|    0|     2068.13|\n+--------------+--------------+------------+--------------+--------------------+-------------------+-----+------------+\nonly showing top 5 rows\n\n"
     ]
    }
   ],
   "source": [
    "#Defining the schema\n",
    "schema = T.StructType([\n",
    "    T.StructField(\"name\", T.StringType(), True),\n",
    "    T.StructField(\"CustomerID\", T.StringType(), True),\n",
    "    T.StructField(\"TenureMonths\", T.IntegerType(), True),\n",
    "    T.StructField(\"MonthlyCharges\", T.DoubleType(), True),\n",
    "    T.StructField(\"email\", T.StringType(), True),\n",
    "    T.StructField(\"PhoneNumber\", T.StringType(), True),\n",
    "    T.StructField(\"Churn\", T.StringType(), True),\n",
    "    T.StructField(\"TotalCharges\", T.StringType(), True)\n",
    "])\n",
    "\n",
    "data_path = \"/FileStore/tables/synthetic_churn_data.csv\"\n",
    "\n",
    "df = spark.read.csv(data_path, header=True, schema=schema)\n",
    "\n",
    "print(f'Data loaded. Row Count: \"{df.count()}\"')\n",
    "df.printSchema()\n",
    "df.show(5)\n"
   ]
  },
  {
   "cell_type": "code",
   "execution_count": 0,
   "metadata": {
    "application/vnd.databricks.v1+cell": {
     "cellMetadata": {
      "byteLimit": 2048000,
      "rowLimit": 10000
     },
     "inputWidgets": {},
     "nuid": "17b6bcd8-13ca-4623-a559-90ea826f0443",
     "showTitle": false,
     "tableResultSettingsMap": {},
     "title": ""
    }
   },
   "outputs": [
    {
     "output_type": "stream",
     "name": "stdout",
     "output_type": "stream",
     "text": [
      "+----+----------+------------+--------------+-----+-----------+-----+------------+\n|name|CustomerID|TenureMonths|MonthlyCharges|email|PhoneNumber|Churn|TotalCharges|\n+----+----------+------------+--------------+-----+-----------+-----+------------+\n|   0|         0|           0|             0|    0|          0|    0|           0|\n+----+----------+------------+--------------+-----+-----------+-----+------------+\n\n"
     ]
    }
   ],
   "source": [
    "#Handeling Missing Values\n",
    "df = df.withColumn(\n",
    "    \"TotalCharges\",\n",
    "    F.expr(\"CASE WHEN TRIM(TotalCharges) = '' THEN NULL ELSE CAST(TotalCharges AS DOUBLE) END\")\n",
    ")\n",
    "\n",
    "#Inputting 0 for missing data\n",
    "df  = df.fillna({\"TotalCharges\": 0.0})\n",
    "\n",
    "#Checking for other nulls\n",
    "df.select([F.count(F.when(F.col(c).isNull(), c)).alias(c) for c in df.columns]).show()"
   ]
  },
  {
   "cell_type": "code",
   "execution_count": 0,
   "metadata": {
    "application/vnd.databricks.v1+cell": {
     "cellMetadata": {
      "byteLimit": 2048000,
      "rowLimit": 10000
     },
     "inputWidgets": {},
     "nuid": "2b02be2d-e57a-4298-b51c-e326811b9a47",
     "showTitle": false,
     "tableResultSettingsMap": {},
     "title": ""
    }
   },
   "outputs": [
    {
     "output_type": "stream",
     "name": "stdout",
     "output_type": "stream",
     "text": [
      "root\n |-- name: string (nullable = true)\n |-- CustomerID: string (nullable = true)\n |-- TenureMonths: integer (nullable = true)\n |-- MonthlyCharges: double (nullable = true)\n |-- email: string (nullable = true)\n |-- PhoneNumber: string (nullable = true)\n |-- Churn: integer (nullable = true)\n |-- TotalCharges: double (nullable = false)\n\n"
     ]
    }
   ],
   "source": [
    "df = df.withColumn(\"Churn\",\n",
    "                   F.col(\"Churn\").cast(T.IntegerType()))\n",
    "\n",
    "df.printSchema()"
   ]
  },
  {
   "cell_type": "code",
   "execution_count": 0,
   "metadata": {
    "application/vnd.databricks.v1+cell": {
     "cellMetadata": {
      "byteLimit": 2048000,
      "rowLimit": 10000
     },
     "inputWidgets": {},
     "nuid": "62f3f319-6903-4562-a8e7-75958fba70cb",
     "showTitle": false,
     "tableResultSettingsMap": {},
     "title": ""
    }
   },
   "outputs": [],
   "source": [
    "df = df.dropDuplicates(['CustomerID'])"
   ]
  },
  {
   "cell_type": "code",
   "execution_count": 0,
   "metadata": {
    "application/vnd.databricks.v1+cell": {
     "cellMetadata": {
      "byteLimit": 2048000,
      "rowLimit": 10000
     },
     "inputWidgets": {},
     "nuid": "2ec11bda-eb38-4467-ab04-fdabf5bacdd3",
     "showTitle": false,
     "tableResultSettingsMap": {},
     "title": ""
    }
   },
   "outputs": [],
   "source": [
    "df = df.withColumn(\"TenureYears\", F.col(\"TenureMonths\") / 12.0)\n",
    "df = df.withColumn(\"ChargeRatio\", F.when(F.col(\"TotalCharges\") > 0, F.col(\"MonthlyCharges\") / F.col(\"TotalCharges\")).otherwise(0))\n",
    "\n",
    "df = df.withColumn(\"TenureGroup\", F.when(F.col(\"TenureMonths\") <= 12, \"0-1 Year\")\n",
    "                   .when((F.col(\"TenureMonths\") > 12) & (F.col(\"TenureMonths\") <= 36), \"1-3 Years\").otherwise(\">3 Years\"))"
   ]
  },
  {
   "cell_type": "code",
   "execution_count": 0,
   "metadata": {
    "application/vnd.databricks.v1+cell": {
     "cellMetadata": {
      "byteLimit": 2048000,
      "rowLimit": 10000
     },
     "inputWidgets": {},
     "nuid": "05cb1f9f-67cd-48c4-a123-f1e5a2701806",
     "showTitle": false,
     "tableResultSettingsMap": {},
     "title": ""
    }
   },
   "outputs": [
    {
     "output_type": "stream",
     "name": "stdout",
     "output_type": "stream",
     "text": [
      "+--------------+------------+--------------+------------+-----+--------------+\n|    CustomerID|TenureMonths|MonthlyCharges|TotalCharges|Churn|TenureCategory|\n+--------------+------------+--------------+------------+-----+--------------+\n|CUST_000000362|           8|        102.19|      737.63|    0|    Low_Tenure|\n|CUST_000000478|          30|          66.3|     2025.29|    0|    Mid_Tenure|\n|CUST_000000495|          32|         85.53|     3102.23|    0|    Mid_Tenure|\n|CUST_000000596|          63|         91.06|     6557.88|    0|   High_Tenure|\n|CUST_000000703|          19|         33.15|      655.77|    0|    Mid_Tenure|\n|CUST_000000764|          63|         49.66|     2752.25|    0|   High_Tenure|\n|CUST_000000835|          44|         47.78|     2215.28|    0|    Mid_Tenure|\n|CUST_000000855|          44|         66.08|      2435.9|    0|    Mid_Tenure|\n|CUST_000000914|          15|         87.45|     1301.48|    1|    Mid_Tenure|\n|CUST_000001040|          68|        102.47|     6061.18|    0|   High_Tenure|\n|CUST_000001092|          19|         91.84|     1582.93|    0|    Mid_Tenure|\n|CUST_000001222|          54|         88.77|     5568.73|    0|   High_Tenure|\n|CUST_000001582|          18|         85.35|     1561.58|    0|    Mid_Tenure|\n|CUST_000001836|          21|        119.81|     2597.94|    1|    Mid_Tenure|\n|CUST_000002036|          31|         93.97|     3286.69|    0|    Mid_Tenure|\n|CUST_000002456|          12|        116.26|     1444.78|    0|    Low_Tenure|\n|CUST_000003082|          35|         39.88|     1495.46|    0|    Mid_Tenure|\n|CUST_000003753|          38|         24.53|     1091.98|    0|    Mid_Tenure|\n|CUST_000004267|           8|         60.22|      401.76|    0|    Low_Tenure|\n|CUST_000004390|          23|          2.22|       47.15|    0|    Mid_Tenure|\n+--------------+------------+--------------+------------+-----+--------------+\nonly showing top 20 rows\n\n"
     ]
    }
   ],
   "source": [
    "df.createOrReplaceTempView(\"churn_data\")\n",
    "\n",
    "#Example of sql query\n",
    "query = \"\"\"\n",
    "SELECT\n",
    "    CustomerID,\n",
    "    TenureMonths,\n",
    "    MonthlyCharges,\n",
    "    TotalCharges,\n",
    "    Churn,\n",
    "    CASE\n",
    "        WHEN TenureMonths <= 12 THEN 'Low_Tenure'\n",
    "        WHEN TenureMonths > 12 AND TenureMonths <= 48 THEN 'Mid_Tenure'\n",
    "        ELSE 'High_Tenure'\n",
    "    END AS TenureCategory\n",
    "FROM churn_data\n",
    "WHERE MonthlyCharges > 0\n",
    "\"\"\"\n",
    "\n",
    "df_transformed = spark.sql(query)\n",
    "df_transformed.show()"
   ]
  },
  {
   "cell_type": "code",
   "execution_count": 0,
   "metadata": {
    "application/vnd.databricks.v1+cell": {
     "cellMetadata": {
      "byteLimit": 2048000,
      "rowLimit": 10000
     },
     "inputWidgets": {},
     "nuid": "2132667f-0875-4257-b4c6-bf83b4d0cbab",
     "showTitle": false,
     "tableResultSettingsMap": {},
     "title": ""
    }
   },
   "outputs": [
    {
     "output_type": "stream",
     "name": "stdout",
     "output_type": "stream",
     "text": [
      "+-------+------------------+-----------------+------------------+\n|summary|      TenureMonths|   MonthlyCharges|      TotalCharges|\n+-------+------------------+-----------------+------------------+\n|  count|          10000000|         10000000|          10000000|\n|   mean|        35.0021692| 70.7935319840069|2454.3567972099772|\n| stddev|19.914961043274303|28.91749439484723|1874.0643845251489|\n|    min|                 1|             -0.0|               0.0|\n|    max|                69|           226.94|          16322.62|\n+-------+------------------+-----------------+------------------+\n\n"
     ]
    }
   ],
   "source": [
    "df.select(\"TenureMonths\", \"MonthlyCharges\", \"TotalCharges\").describe().show()"
   ]
  },
  {
   "cell_type": "code",
   "execution_count": 0,
   "metadata": {
    "application/vnd.databricks.v1+cell": {
     "cellMetadata": {
      "byteLimit": 2048000,
      "rowLimit": 10000
     },
     "inputWidgets": {},
     "nuid": "dfbdc144-7d43-4c07-bde3-fa44d3967aaf",
     "showTitle": false,
     "tableResultSettingsMap": {},
     "title": ""
    }
   },
   "outputs": [
    {
     "output_type": "stream",
     "name": "stdout",
     "output_type": "stream",
     "text": [
      "+-----------+-------+\n|TenureGroup|  count|\n+-----------+-------+\n|   >3 Years|4783782|\n|  1-3 Years|3477352|\n|   0-1 Year|1738866|\n+-----------+-------+\n\n"
     ]
    }
   ],
   "source": [
    "df.groupby(\"TenureGroup\").count().orderBy(F.desc(\"count\")).show()"
   ]
  },
  {
   "cell_type": "code",
   "execution_count": 0,
   "metadata": {
    "application/vnd.databricks.v1+cell": {
     "cellMetadata": {
      "byteLimit": 2048000,
      "rowLimit": 10000
     },
     "inputWidgets": {},
     "nuid": "a3764e67-41cb-4530-8393-d8f2d286058b",
     "showTitle": false,
     "tableResultSettingsMap": {},
     "title": ""
    }
   },
   "outputs": [
    {
     "output_type": "stream",
     "name": "stdout",
     "output_type": "stream",
     "text": [
      "+-----+-------+\n|Churn|  count|\n+-----+-------+\n|    1|1673697|\n|    0|8326303|\n+-----+-------+\n\n+-----------+-------------------+\n|TenureGroup|          ChurnRate|\n+-----------+-------------------+\n|   0-1 Year| 0.3010939313322591|\n|  1-3 Years| 0.2116159077366916|\n|   >3 Years|0.08659926392966903|\n+-----------+-------------------+\n\n"
     ]
    }
   ],
   "source": [
    "df.groupby(\"Churn\").count().show()\n",
    "\n",
    "df.groupBy(\"TenureGroup\").agg(F.mean(\"Churn\").alias(\"ChurnRate\")).orderBy(\"TenureGroup\").show()"
   ]
  },
  {
   "cell_type": "code",
   "execution_count": 0,
   "metadata": {
    "application/vnd.databricks.v1+cell": {
     "cellMetadata": {
      "byteLimit": 2048000,
      "rowLimit": 10000
     },
     "inputWidgets": {},
     "nuid": "abcf5255-797d-45dc-a80b-7961a4ea4e06",
     "showTitle": false,
     "tableResultSettingsMap": {},
     "title": ""
    }
   },
   "outputs": [
    {
     "output_type": "stream",
     "name": "stdout",
     "output_type": "stream",
     "text": [
      "name , string\nCustomerID , string\nTenureMonths , int\nMonthlyCharges , double\nemail , string\nPhoneNumber , string\nChurn , int\nTotalCharges , double\nTenureYears , double\nChargeRatio , double\nTenureGroup , string\n"
     ]
    }
   ],
   "source": [
    "for col in df.dtypes:\n",
    "    print(col[0]+\" , \"+col[1])"
   ]
  },
  {
   "cell_type": "code",
   "execution_count": 0,
   "metadata": {
    "application/vnd.databricks.v1+cell": {
     "cellMetadata": {
      "byteLimit": 2048000,
      "rowLimit": 10000
     },
     "inputWidgets": {},
     "nuid": "88273fa9-0d3f-4dd4-bbde-cb062dd3cde7",
     "showTitle": false,
     "tableResultSettingsMap": {},
     "title": ""
    }
   },
   "outputs": [
    {
     "output_type": "stream",
     "name": "stdout",
     "output_type": "stream",
     "text": [
      "Pearson Correlation Matrix:\nDenseMatrix([[ 1.        , -0.23841007,  0.74540726,  1.        , -0.52160114],\n             [-0.23841007,  1.        , -0.06141085, -0.23841007,  0.13330736],\n             [ 0.74540726, -0.06141085,  1.        ,  0.74540726, -0.38970482],\n             [ 1.        , -0.23841007,  0.74540726,  1.        , -0.52160114],\n             [-0.52160114,  0.13330736, -0.38970482, -0.52160114,  1.        ]])\n"
     ]
    }
   ],
   "source": [
    "from pyspark.ml.stat import Correlation\n",
    "from pyspark.ml.feature import VectorAssembler\n",
    "\n",
    "numeric_cols = [\"TenureMonths\", \"Churn\", \"TotalCharges\", \"TenureYears\", \"ChargeRatio\"]\n",
    "assembler = VectorAssembler(inputCols=numeric_cols, outputCol=\"corr_feature\")\n",
    "df_vector = assembler.transform(df.select(numeric_cols)).select(\"corr_feature\")\n",
    "\n",
    "matrix = Correlation.corr(df_vector, \"corr_feature\").head()\n",
    "print(\"Pearson Correlation Matrix:\\n\" + str(matrix[0]))"
   ]
  },
  {
   "cell_type": "code",
   "execution_count": 0,
   "metadata": {
    "application/vnd.databricks.v1+cell": {
     "cellMetadata": {
      "byteLimit": 2048000,
      "rowLimit": 10000
     },
     "inputWidgets": {},
     "nuid": "36ec5d07-f239-4003-a71a-156f3f192849",
     "showTitle": false,
     "tableResultSettingsMap": {},
     "title": ""
    }
   },
   "outputs": [
    {
     "output_type": "display_data",
     "data": {
      "image/png": "[encoded data removed]",
      "text/plain": [
       "<Figure size 800x500 with 1 Axes>"
      ]
     },
     "metadata": {},
     "output_type": "display_data"
    }
   ],
   "source": [
    "churn_by_TenureGroup = df.groupBy(\"TenureGroup\").agg(F.mean(\"churn\").alias(\"ChurnRate\")).orderBy(\"TenureGroup\").toPandas()\n",
    "\n",
    "import matplotlib.pyplot as plt\n",
    "import seaborn as sns\n",
    "\n",
    "plt.figure(figsize=(8, 5))\n",
    "sns.barplot(x = \"TenureGroup\", y = \"ChurnRate\", data=churn_by_TenureGroup)\n",
    "plt.title(\"Churn Rate by Tenure Group\")\n",
    "plt.show()"
   ]
  },
  {
   "cell_type": "code",
   "execution_count": 0,
   "metadata": {
    "application/vnd.databricks.v1+cell": {
     "cellMetadata": {
      "byteLimit": 2048000,
      "rowLimit": 10000
     },
     "inputWidgets": {},
     "nuid": "9cc9d116-9b4c-4928-8f9d-380a3d78e3e6",
     "showTitle": false,
     "tableResultSettingsMap": {},
     "title": ""
    }
   },
   "outputs": [
    {
     "output_type": "display_data",
     "data": {
      "image/png": "[encoded data removed]",
      "text/plain": [
       "<Figure size 640x480 with 1 Axes>"
      ]
     },
     "metadata": {},
     "output_type": "display_data"
    }
   ],
   "source": [
    "df_sample_pd = df.sample(withReplacement=False, fraction = 0.01, seed = 42).toPandas()\n",
    "\n",
    "sns.histplot(data = df_sample_pd, x=\"MonthlyCharges\", hue=\"Churn\", kde=True)\n",
    "plt.show()"
   ]
  },
  {
   "cell_type": "code",
   "execution_count": 0,
   "metadata": {
    "application/vnd.databricks.v1+cell": {
     "cellMetadata": {
      "byteLimit": 2048000,
      "rowLimit": 10000
     },
     "inputWidgets": {},
     "nuid": "2358dd7c-e7df-4e22-830b-d92208859bdc",
     "showTitle": false,
     "tableResultSettingsMap": {},
     "title": ""
    }
   },
   "outputs": [
    {
     "output_type": "stream",
     "name": "stdout",
     "output_type": "stream",
     "text": [
      "+-----------------------------------------------------------------------+-----+\n|features                                                               |Churn|\n+-----------------------------------------------------------------------+-----+\n|[0.0,0.0,1.0,8.0,102.19,737.63,0.6666666666666666,0.13853829155538686] |0    |\n|[0.0,1.0,0.0,30.0,66.3,2025.29,2.5,0.03273605261468728]                |0    |\n|[0.0,1.0,0.0,32.0,85.53,3102.23,2.6666666666666665,0.02757048961553463]|0    |\n|[1.0,0.0,0.0,63.0,91.06,6557.88,5.25,0.01388558497563237]              |0    |\n|[0.0,1.0,0.0,19.0,33.15,655.77,1.5833333333333333,0.05055126035042774] |0    |\n+-----------------------------------------------------------------------+-----+\nonly showing top 5 rows\n\nTraining data count: 7999765, Test data count: 2000235\n"
     ]
    }
   ],
   "source": [
    "from pyspark.ml.feature import StringIndexer, OneHotEncoder, VectorAssembler\n",
    "from pyspark.ml import Pipeline\n",
    "from pyspark.ml.classification import LogisticRegression, DecisionTreeClassifier, RandomForestClassifier\n",
    "from pyspark.ml.evaluation import BinaryClassificationEvaluator, MulticlassClassificationEvaluator\n",
    "\n",
    "# Identify categorical and numerical columns (excluding ID and original target string)\n",
    "categorical_cols = [f.name for f in df.schema.fields if isinstance(f.dataType, T.StringType) and f.name not in ['name', 'CustomerID', 'email', 'PhoneNumber']]\n",
    "\n",
    "\n",
    "numerical_cols = [f.name for f in df.schema.fields if isinstance(f.dataType, (T.IntegerType, T.DoubleType)) and f.name not in ['Churn']]\n",
    "\n",
    "\n",
    "# Define stages for the pipeline\n",
    "indexers = [StringIndexer(inputCol=col, outputCol=col+\"_index\", handleInvalid=\"keep\") for col in categorical_cols]\n",
    "encoders = [OneHotEncoder(inputCol=col+\"_index\", outputCol=col+\"_vec\") for col in categorical_cols]\n",
    "assembler_inputs = [col+\"_vec\" for col in categorical_cols] + numerical_cols\n",
    "assembler = VectorAssembler(inputCols=assembler_inputs, outputCol=\"features\")\n",
    "\n",
    "stages = indexers + encoders + [assembler]\n",
    "\n",
    "# Create and fit the feature transformation pipeline\n",
    "feature_pipeline = Pipeline(stages=stages)\n",
    "feature_model = feature_pipeline.fit(df)\n",
    "df_features = feature_model.transform(df)\n",
    "\n",
    "# Select only features and the label\n",
    "df_model_data = df_features.select(\"features\", \"Churn\")\n",
    "df_model_data.show(5, truncate=False)\n",
    "\n",
    "# Split data\n",
    "(train_data, test_data) = df_model_data.randomSplit([0.8, 0.2], seed=42)\n",
    "print(f\"Training data count: {train_data.count()}, Test data count: {test_data.count()}\")"
   ]
  },
  {
   "cell_type": "code",
   "execution_count": 0,
   "metadata": {
    "application/vnd.databricks.v1+cell": {
     "cellMetadata": {
      "byteLimit": 2048000,
      "rowLimit": 10000
     },
     "inputWidgets": {},
     "nuid": "e27f46c0-9074-4bdd-882c-f35e4abdedf1",
     "showTitle": false,
     "tableResultSettingsMap": {},
     "title": ""
    }
   },
   "outputs": [
    {
     "output_type": "stream",
     "name": "stdout",
     "output_type": "stream",
     "text": [
      "+-----+----------+-----------------------------------------+\n|Churn|prediction|probability                              |\n+-----+----------+-----------------------------------------+\n|0    |0.0       |[0.9428942490682273,0.057105750931772725]|\n|0    |0.0       |[0.9428942490682273,0.057105750931772725]|\n|0    |0.0       |[0.9428942490682273,0.057105750931772725]|\n|0    |0.0       |[0.9428942490682273,0.057105750931772725]|\n|0    |0.0       |[0.9428942490682273,0.057105750931772725]|\n|0    |0.0       |[0.9428942490682273,0.057105750931772725]|\n|0    |0.0       |[0.9428942490682273,0.057105750931772725]|\n|0    |0.0       |[0.9428942490682273,0.057105750931772725]|\n|0    |0.0       |[0.9428942490682273,0.057105750931772725]|\n|0    |0.0       |[0.9428942490682273,0.057105750931772725]|\n+-----+----------+-----------------------------------------+\nonly showing top 10 rows\n\nArea under ROC (AUC): \"0.7535\"\naccuracy: \"0.8317\"\nprecision: \"0.7780\"\nRecall: \"0.8317\"\nf1 Score: \"0.7694\"\n"
     ]
    }
   ],
   "source": [
    "lr = LogisticRegression(featuresCol=\"features\", labelCol=\"Churn\")\n",
    "\n",
    "lr_model = lr.fit(train_data)\n",
    "\n",
    "predictions = lr_model.transform(test_data)\n",
    "predictions.select(\"Churn\", \"prediction\", \"probability\").show(10, truncate=False)\n",
    "\n",
    "evaluator_auc = BinaryClassificationEvaluator(labelCol=\"Churn\", rawPredictionCol=\"rawPrediction\", metricName=\"areaUnderROC\")\n",
    "evaluator_multi = MulticlassClassificationEvaluator(labelCol=\"Churn\", predictionCol=\"prediction\")\n",
    "\n",
    "auc = evaluator_auc.evaluate(predictions)\n",
    "accuracy = evaluator_multi.evaluate(predictions, {evaluator_multi.metricName: \"accuracy\"})\n",
    "precision = evaluator_multi.evaluate(predictions, {evaluator_multi.metricName: \"weightedPrecision\"})\n",
    "recall = evaluator_multi.evaluate(predictions, {evaluator_multi.metricName: \"weightedRecall\"})\n",
    "f1 = evaluator_multi.evaluate(predictions, {evaluator_multi.metricName: \"f1\"})\n",
    "\n",
    "print(f'Area under ROC (AUC): \"{auc:.4f}\"')\n",
    "print(f'accuracy: \"{accuracy:.4f}\"')\n",
    "print(f'precision: \"{precision:.4f}\"')\n",
    "print(f'Recall: \"{recall:.4f}\"')\n",
    "print(f'f1 Score: \"{f1:.4f}\"')"
   ]
  },
  {
   "cell_type": "code",
   "execution_count": 0,
   "metadata": {
    "application/vnd.databricks.v1+cell": {
     "cellMetadata": {
      "byteLimit": 2048000,
      "rowLimit": 10000
     },
     "inputWidgets": {},
     "nuid": "69884596-d025-455b-bc3d-a3dc5c4ea325",
     "showTitle": false,
     "tableResultSettingsMap": {},
     "title": ""
    }
   },
   "outputs": [
    {
     "output_type": "stream",
     "name": "stdout",
     "output_type": "stream",
     "text": [
      "+-----+----------+---------------------------------------+\n|Churn|prediction|probability                            |\n+-----+----------+---------------------------------------+\n|0    |0.0       |[0.8417779238162548,0.1582220761837451]|\n|0    |0.0       |[0.8417779238162548,0.1582220761837451]|\n|0    |0.0       |[0.8417779238162548,0.1582220761837451]|\n|0    |0.0       |[0.8417779238162548,0.1582220761837451]|\n|0    |0.0       |[0.8417779238162548,0.1582220761837451]|\n|0    |0.0       |[0.8417779238162548,0.1582220761837451]|\n|0    |0.0       |[0.8417779238162548,0.1582220761837451]|\n|0    |0.0       |[0.8417779238162548,0.1582220761837451]|\n|0    |0.0       |[0.8417779238162548,0.1582220761837451]|\n|0    |0.0       |[0.8417779238162548,0.1582220761837451]|\n+-----+----------+---------------------------------------+\nonly showing top 10 rows\n\nArea under ROC (AUC): \"0.6917\"\naccuracy: \"0.8323\"\nprecision: \"0.6927\"\nRecall: \"0.8323\"\nf1 Score: \"0.7561\"\n"
     ]
    }
   ],
   "source": [
    "rf = RandomForestClassifier(featuresCol=\"features\", labelCol=\"Churn\")\n",
    "rf_model = rf.fit(train_data)\n",
    "predictions = rf_model.transform(test_data)\n",
    "\n",
    "predictions.select(\"Churn\", \"prediction\", \"probability\").show(10, truncate=False)\n",
    "\n",
    "evaluator_auc = BinaryClassificationEvaluator(labelCol=\"Churn\", rawPredictionCol=\"rawPrediction\", metricName=\"areaUnderROC\")\n",
    "evaluator_multi = MulticlassClassificationEvaluator(labelCol=\"Churn\", predictionCol=\"prediction\")\n",
    "\n",
    "auc = evaluator_auc.evaluate(predictions)\n",
    "accuracy = evaluator_multi.evaluate(predictions, {evaluator_multi.metricName: \"accuracy\"})\n",
    "precision = evaluator_multi.evaluate(predictions, {evaluator_multi.metricName: \"weightedPrecision\"})\n",
    "recall = evaluator_multi.evaluate(predictions, {evaluator_multi.metricName: \"weightedRecall\"})\n",
    "f1 = evaluator_multi.evaluate(predictions, {evaluator_multi.metricName: \"f1\"})\n",
    "\n",
    "print(f'Area under ROC (AUC): \"{auc:.4f}\"')\n",
    "print(f'accuracy: \"{accuracy:.4f}\"')\n",
    "print(f'precision: \"{precision:.4f}\"')\n",
    "print(f'Recall: \"{recall:.4f}\"')\n",
    "print(f'f1 Score: \"{f1:.4f}\"')"
   ]
  },
  {
   "cell_type": "code",
   "execution_count": 0,
   "metadata": {
    "application/vnd.databricks.v1+cell": {
     "cellMetadata": {
      "byteLimit": 2048000,
      "rowLimit": 10000
     },
     "inputWidgets": {},
     "nuid": "7fa6be62-cd26-4ccc-b43b-11f041d4a921",
     "showTitle": false,
     "tableResultSettingsMap": {},
     "title": ""
    }
   },
   "outputs": [
    {
     "output_type": "stream",
     "name": "stdout",
     "output_type": "stream",
     "text": [
      "Number of distinct probabilities in the test set: 22\n+----------------------------------------+------+\n|probability                             |count |\n+----------------------------------------+------+\n|[0.8417779238162548,0.1582220761837451] |956827|\n|[0.8341672310050352,0.16583276899496482]|290314|\n|[0.8218423353782406,0.17815766462175944]|179000|\n|[0.830082159270615,0.16991784072938496] |173890|\n|[0.8114065841410906,0.1885934158589094] |107824|\n|[0.8160904291223178,0.18390957087768217]|60075 |\n|[0.8380128032227528,0.16198719677724718]|58406 |\n|[0.8317170655500566,0.16828293444994324]|39282 |\n|[0.7943218620460821,0.20567813795391793]|21625 |\n|[0.7928471201909967,0.20715287980900327]|21109 |\n|[0.8289084782158878,0.1710915217841122] |18487 |\n|[0.8093377481919144,0.1906622518080856] |17864 |\n|[0.8188990164564867,0.1811009835435132] |13464 |\n|[0.8053152084231925,0.19468479157680738]|10729 |\n|[0.8124858049880587,0.18751419501194136]|7118  |\n|[0.7852541104812034,0.21474588951879664]|6148  |\n|[0.783779368626118,0.216220631373882]   |5568  |\n|[0.8002699966270356,0.19973000337296432]|5114  |\n|[0.8157509596603425,0.18424904033965742]|4385  |\n|[0.808183091301742,0.19181690869825804] |2033  |\n+----------------------------------------+------+\nonly showing top 20 rows\n\n"
     ]
    }
   ],
   "source": [
    "# Assuming 'predictions_df' is your DataFrame with the 'probability' column\n",
    "distinct_probabilities_count = predictions.select(\"probability\").distinct().count()\n",
    "print(f\"Number of distinct probabilities in the test set: {distinct_probabilities_count}\")\n",
    "\n",
    "# You can also look at the distribution\n",
    "predictions.groupBy(\"probability\").count().orderBy(\"count\", ascending=False).show(truncate=False)"
   ]
  },
  {
   "cell_type": "code",
   "execution_count": 0,
   "metadata": {
    "application/vnd.databricks.v1+cell": {
     "cellMetadata": {
      "byteLimit": 2048000,
      "rowLimit": 10000
     },
     "inputWidgets": {},
     "nuid": "7e2901f2-7b21-4646-a954-505813b56174",
     "showTitle": false,
     "tableResultSettingsMap": {},
     "title": ""
    }
   },
   "outputs": [
    {
     "output_type": "stream",
     "name": "stdout",
     "output_type": "stream",
     "text": [
      "+--------------------------------+-----+\n|features                        |Churn|\n+--------------------------------+-----+\n|[0.0,0.0,1.0,8.0,102.19,737.63] |0    |\n|[1.0,0.0,0.0,30.0,66.3,2025.29] |0    |\n|[1.0,0.0,0.0,32.0,85.53,3102.23]|0    |\n|[0.0,1.0,0.0,63.0,91.06,6557.88]|0    |\n|[1.0,0.0,0.0,19.0,33.15,655.77] |0    |\n+--------------------------------+-----+\nonly showing top 5 rows\n\nTraining data count: 7999709, Test data count: 2000215\n"
     ]
    }
   ],
   "source": [
    "from pyspark.ml.feature import StringIndexer, OneHotEncoder, VectorAssembler\n",
    "from pyspark.ml import Pipeline\n",
    "from pyspark.ml.classification import LogisticRegression, DecisionTreeClassifier, RandomForestClassifier\n",
    "from pyspark.ml.evaluation import BinaryClassificationEvaluator, MulticlassClassificationEvaluator\n",
    "\n",
    "# Identify categorical and numerical columns (excluding ID and original target string)\n",
    "categorical_cols = [f.name for f in df_transformed.schema.fields if isinstance(f.dataType, T.StringType) and f.name not in ['name', 'CustomerID', 'email', 'PhoneNumber']]\n",
    "\n",
    "\n",
    "numerical_cols = [f.name for f in df_transformed.schema.fields if isinstance(f.dataType, (T.IntegerType, T.DoubleType)) and f.name not in ['Churn']]\n",
    "\n",
    "\n",
    "# Define stages for the pipeline\n",
    "indexers = [StringIndexer(inputCol=col, outputCol=col+\"_index\", handleInvalid=\"keep\") for col in categorical_cols]\n",
    "encoders = [OneHotEncoder(inputCol=col+\"_index\", outputCol=col+\"_vec\") for col in categorical_cols]\n",
    "assembler_inputs = [col+\"_vec\" for col in categorical_cols] + numerical_cols\n",
    "assembler = VectorAssembler(inputCols=assembler_inputs, outputCol=\"features\")\n",
    "\n",
    "stages = indexers + encoders + [assembler]\n",
    "\n",
    "# Create and fit the feature transformation pipeline\n",
    "feature_pipeline = Pipeline(stages=stages)\n",
    "feature_model = feature_pipeline.fit(df_transformed)\n",
    "df_features = feature_model.transform(df_transformed)\n",
    "\n",
    "# Select only features and the label\n",
    "df_model_data = df_features.select(\"features\", \"Churn\")\n",
    "df_model_data.show(5, truncate=False)\n",
    "\n",
    "# Split data\n",
    "(train_data, test_data) = df_model_data.randomSplit([0.8, 0.2], seed=42)\n",
    "print(f\"Training data count: {train_data.count()}, Test data count: {test_data.count()}\")"
   ]
  },
  {
   "cell_type": "code",
   "execution_count": 0,
   "metadata": {
    "application/vnd.databricks.v1+cell": {
     "cellMetadata": {
      "byteLimit": 2048000,
      "rowLimit": 10000
     },
     "inputWidgets": {},
     "nuid": "f1daafa3-5d23-44ce-a7ed-41ed632b32c5",
     "showTitle": false,
     "tableResultSettingsMap": {},
     "title": ""
    }
   },
   "outputs": [
    {
     "output_type": "stream",
     "name": "stdout",
     "output_type": "stream",
     "text": [
      "+-----+----------+----------------------------------------+\n|Churn|prediction|probability                             |\n+-----+----------+----------------------------------------+\n|0    |0.0       |[0.8530838575680261,0.14691614243197393]|\n|0    |0.0       |[0.8527979990164746,0.14720200098352543]|\n|0    |0.0       |[0.8522948211725874,0.14770517882741263]|\n|0    |0.0       |[0.8511840492971444,0.14881595070285558]|\n|0    |0.0       |[0.8505903027772054,0.14940969722279462]|\n|0    |0.0       |[0.8499868510338898,0.15001314896611018]|\n|0    |0.0       |[0.8495503406103462,0.15044965938965382]|\n|0    |0.0       |[0.8489364259957211,0.15106357400427894]|\n|0    |0.0       |[0.8482467833384124,0.1517532166615876] |\n|0    |0.0       |[0.848203405633607,0.15179659436639303] |\n+-----+----------+----------------------------------------+\nonly showing top 10 rows\n\nArea under ROC (AUC): \"0.7539\"\naccuracy: \"0.8317\"\nprecision: \"0.7777\"\nRecall: \"0.8317\"\nf1 Score: \"0.7691\"\n"
     ]
    }
   ],
   "source": [
    "lr = LogisticRegression(featuresCol=\"features\", labelCol=\"Churn\")\n",
    "\n",
    "lr_model = lr.fit(train_data)\n",
    "\n",
    "predictions = lr_model.transform(test_data)\n",
    "predictions.select(\"Churn\", \"prediction\", \"probability\").show(10, truncate=False)\n",
    "\n",
    "evaluator_auc = BinaryClassificationEvaluator(labelCol=\"Churn\", rawPredictionCol=\"rawPrediction\", metricName=\"areaUnderROC\")\n",
    "evaluator_multi = MulticlassClassificationEvaluator(labelCol=\"Churn\", predictionCol=\"prediction\")\n",
    "\n",
    "auc = evaluator_auc.evaluate(predictions)\n",
    "accuracy = evaluator_multi.evaluate(predictions, {evaluator_multi.metricName: \"accuracy\"})\n",
    "precision = evaluator_multi.evaluate(predictions, {evaluator_multi.metricName: \"weightedPrecision\"})\n",
    "recall = evaluator_multi.evaluate(predictions, {evaluator_multi.metricName: \"weightedRecall\"})\n",
    "f1 = evaluator_multi.evaluate(predictions, {evaluator_multi.metricName: \"f1\"})\n",
    "\n",
    "print(f'Area under ROC (AUC): \"{auc:.4f}\"')\n",
    "print(f'accuracy: \"{accuracy:.4f}\"')\n",
    "print(f'precision: \"{precision:.4f}\"')\n",
    "print(f'Recall: \"{recall:.4f}\"')\n",
    "print(f'f1 Score: \"{f1:.4f}\"')"
   ]
  },
  {
   "cell_type": "code",
   "execution_count": 0,
   "metadata": {
    "application/vnd.databricks.v1+cell": {
     "cellMetadata": {
      "byteLimit": 2048000,
      "rowLimit": 10000
     },
     "inputWidgets": {},
     "nuid": "d4e72d68-01df-4f7c-a132-995ed3e5ba36",
     "showTitle": false,
     "tableResultSettingsMap": {},
     "title": ""
    }
   },
   "outputs": [
    {
     "output_type": "stream",
     "name": "stdout",
     "output_type": "stream",
     "text": [
      "+-----+----------+----------------------------------------+\n|Churn|prediction|probability                             |\n+-----+----------+----------------------------------------+\n|0    |0.0       |[0.8302349276106726,0.16976507238932742]|\n|0    |0.0       |[0.8302349276106726,0.16976507238932742]|\n|0    |0.0       |[0.8302349276106726,0.16976507238932742]|\n|0    |0.0       |[0.8302349276106726,0.16976507238932742]|\n|0    |0.0       |[0.8302349276106726,0.16976507238932742]|\n|0    |0.0       |[0.8302349276106726,0.16976507238932742]|\n|0    |0.0       |[0.8302349276106726,0.16976507238932742]|\n|0    |0.0       |[0.8302349276106726,0.16976507238932742]|\n|0    |0.0       |[0.8302349276106726,0.16976507238932742]|\n|0    |0.0       |[0.8302349276106726,0.16976507238932742]|\n+-----+----------+----------------------------------------+\nonly showing top 10 rows\n\nArea under ROC (AUC): \"0.7140\"\naccuracy: \"0.8323\"\nprecision: \"0.6928\"\nRecall: \"0.8323\"\nf1 Score: \"0.7562\"\n"
     ]
    }
   ],
   "source": [
    "rf = RandomForestClassifier(featuresCol=\"features\", labelCol=\"Churn\")\n",
    "rf_model = rf.fit(train_data)\n",
    "predictions = rf_model.transform(test_data)\n",
    "\n",
    "predictions.select(\"Churn\", \"prediction\", \"probability\").show(10, truncate=False)\n",
    "\n",
    "evaluator_auc = BinaryClassificationEvaluator(labelCol=\"Churn\", rawPredictionCol=\"rawPrediction\", metricName=\"areaUnderROC\")\n",
    "evaluator_multi = MulticlassClassificationEvaluator(labelCol=\"Churn\", predictionCol=\"prediction\")\n",
    "\n",
    "auc = evaluator_auc.evaluate(predictions)\n",
    "accuracy = evaluator_multi.evaluate(predictions, {evaluator_multi.metricName: \"accuracy\"})\n",
    "precision = evaluator_multi.evaluate(predictions, {evaluator_multi.metricName: \"weightedPrecision\"})\n",
    "recall = evaluator_multi.evaluate(predictions, {evaluator_multi.metricName: \"weightedRecall\"})\n",
    "f1 = evaluator_multi.evaluate(predictions, {evaluator_multi.metricName: \"f1\"})\n",
    "\n",
    "print(f'Area under ROC (AUC): \"{auc:.4f}\"')\n",
    "print(f'accuracy: \"{accuracy:.4f}\"')\n",
    "print(f'precision: \"{precision:.4f}\"')\n",
    "print(f'Recall: \"{recall:.4f}\"')\n",
    "print(f'f1 Score: \"{f1:.4f}\"')"
   ]
  },
  {
   "cell_type": "code",
   "execution_count": 0,
   "metadata": {
    "application/vnd.databricks.v1+cell": {
     "cellMetadata": {
      "byteLimit": 2048000,
      "rowLimit": 10000
     },
     "inputWidgets": {},
     "nuid": "6cee31e8-9ea9-4f19-9021-002868804b81",
     "showTitle": false,
     "tableResultSettingsMap": {},
     "title": ""
    }
   },
   "outputs": [
    {
     "output_type": "stream",
     "name": "stdout",
     "output_type": "stream",
     "text": [
      "Number of distinct probabilities in the test set: 30\n+----------------------------------------+------+\n|probability                             |count |\n+----------------------------------------+------+\n|[0.8436593974879848,0.15634060251201518]|634736|\n|[0.8376119902482507,0.16238800975174922]|414913|\n|[0.837351309333479,0.16264869066652105] |343073|\n|[0.8176640759005744,0.18233592409942567]|176967|\n|[0.8302349276106726,0.16976507238932742]|164183|\n|[0.8149120653985114,0.1850879346014887] |41081 |\n|[0.7983217888826367,0.20167821111736325]|38290 |\n|[0.7958027598934232,0.20419724010657667]|33731 |\n|[0.8239721640550802,0.1760278359449198] |23694 |\n|[0.8234620490468538,0.1765379509531461] |15759 |\n|[0.7824924794035644,0.21750752059643572]|15639 |\n|[0.7850647282845727,0.2149352717154273] |14578 |\n|[0.8109573320599084,0.18904266794009164]|13173 |\n|[0.7931596787836923,0.2068403212163077] |10570 |\n|[0.7977760579221409,0.20222394207785904]|10502 |\n|[0.8282616295819549,0.17173837041804507]|9929  |\n|[0.8209430200576404,0.1790569799423595] |8334  |\n|[0.8229163180863581,0.17708368191364185]|7582  |\n|[0.770039660969682,0.22996033903031785] |5685  |\n|[0.7905874299026838,0.20941257009731612]|5023  |\n+----------------------------------------+------+\nonly showing top 20 rows\n\n"
     ]
    }
   ],
   "source": [
    "# Assuming 'predictions_df' is your DataFrame with the 'probability' column\n",
    "distinct_probabilities_count = predictions.select(\"probability\").distinct().count()\n",
    "print(f\"Number of distinct probabilities in the test set: {distinct_probabilities_count}\")\n",
    "\n",
    "# You can also look at the distribution\n",
    "predictions.groupBy(\"probability\").count().orderBy(\"count\", ascending=False).show(truncate=False)"
   ]
  }
 ],
 "metadata": {
  "application/vnd.databricks.v1+notebook": {
   "computePreferences": null,
   "dashboards": [],
   "environmentMetadata": {
    "base_environment": "",
    "environment_version": "1"
   },
   "inputWidgetPreferences": null,
   "language": "python",
   "notebookMetadata": {
    "pythonIndentUnit": 4
   },
   "notebookName": "churn modeling",
   "widgets": {}
  }
 },
 "nbformat": 4,
 "nbformat_minor": 0
}